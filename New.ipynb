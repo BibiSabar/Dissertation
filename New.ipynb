{
 "cells": [
  {
   "cell_type": "code",
   "execution_count": 13,
   "id": "456c9cd7-d11a-42f7-addf-9df42fec9d96",
   "metadata": {},
   "outputs": [],
   "source": [
    "import os\n",
    "import numpy as np\n",
    "import pandas as pd \n",
    "from sklearn.preprocessing import StandardScaler"
   ]
  },
  {
   "cell_type": "code",
   "execution_count": 14,
   "id": "b5e27082-41da-4eea-9e09-ad941a629d44",
   "metadata": {},
   "outputs": [],
   "source": [
    "import os\n",
    "import wfdb\n",
    "import numpy as np\n",
    "import pandas as pd\n",
    "from sklearn.preprocessing import StandardScaler\n",
    "\n",
    "# Define the path to the extracted dataset\n",
    "data_path = r'C:\\Users\\Bibi Sabar\\Desktop\\Dissertation\\mit-bih-arrhythmia-database-1.0.0'\n",
    "\n",
    "# Function to load a record and preprocess\n",
    "def load_and_preprocess(record):\n",
    "    signal, fields = wfdb.rdsamp(os.path.join(data_path, record))\n",
    "    annotation = wfdb.rdann(os.path.join(data_path, record), 'atr')\n",
    "    \n",
    "    # Use only one channel (e.g., channel 0)\n",
    "    signal = signal[:, 0].reshape(-1, 1)\n",
    "    \n",
    "    # Normalize the signal\n",
    "    scaler = StandardScaler()\n",
    "    signal = scaler.fit_transform(signal)\n",
    "    \n",
    "    # Segment the signal\n",
    "    segments = []\n",
    "    labels = []\n",
    "    for i in range(len(annotation.sample)):\n",
    "        if annotation.sample[i] - 99 > 0 and annotation.sample[i] + 160 < len(signal):\n",
    "            segments.append(signal[annotation.sample[i] - 99 : annotation.sample[i] + 160])\n",
    "            labels.append(annotation.symbol[i])\n",
    "    \n",
    "    return np.array(segments), np.array(labels)\n",
    "\n",
    "# Function to load and preprocess all records in the dataset\n",
    "def load_and_preprocess_all_records(data_path):\n",
    "    all_segments = []\n",
    "    all_labels = []\n",
    "    \n",
    "    for record in os.listdir(data_path):\n",
    "        if record.endswith('.dat'):\n",
    "            record_name = record[:-4]  # Remove the file extension\n",
    "            segments, labels = load_and_preprocess(record_name)\n",
    "            all_segments.append(segments)\n",
    "            all_labels.append(labels)\n",
    "    \n",
    "    # Concatenate all segments and labels\n",
    "    all_segments = np.vstack(all_segments)\n",
    "    all_labels = np.concatenate(all_labels)\n",
    "    \n",
    "    return all_segments, all_labels\n",
    "\n",
    "# Load and preprocess the entire dataset\n",
    "segments, labels = load_and_preprocess_all_records(data_path)\n",
    "\n",
    "# Reshape segments to fit the model's expected input shape\n",
    "segments = segments.reshape(segments.shape[0], segments.shape[1], 1)\n"
   ]
  },
  {
   "cell_type": "code",
   "execution_count": 15,
   "id": "d78ef1b8-bae2-43fe-a751-34befe217240",
   "metadata": {},
   "outputs": [],
   "source": [
    "from sklearn.model_selection import train_test_split\n",
    "from sklearn.preprocessing import LabelEncoder\n",
    "\n",
    "# Encode the labels\n",
    "label_encoder = LabelEncoder()\n",
    "labels_encoded = label_encoder.fit_transform(labels)\n",
    "\n",
    "# Split the data\n",
    "X_train, X_test, y_train, y_test = train_test_split(segments, labels_encoded, test_size=0.2, random_state=42)\n"
   ]
  },
  {
   "cell_type": "code",
   "execution_count": 16,
   "id": "a69284e2-1c3c-463e-8074-8122ec1b8b0b",
   "metadata": {},
   "outputs": [],
   "source": [
    "from tensorflow.keras.models import Sequential\n",
    "from tensorflow.keras.layers import Conv1D, MaxPooling1D, Flatten, Dense, Dropout\n",
    "import numpy as np\n",
    "\n",
    "# Define a simple CNN model\n",
    "model = Sequential([\n",
    "    Conv1D(32, kernel_size=3, activation='relu', input_shape=(259, 1)),\n",
    "    MaxPooling1D(pool_size=2),\n",
    "    Dropout(0.2),\n",
    "    Conv1D(64, kernel_size=3, activation='relu'),\n",
    "    MaxPooling1D(pool_size=2),\n",
    "    Dropout(0.2),\n",
    "    Flatten(),\n",
    "    Dense(100, activation='relu'),\n",
    "    Dropout(0.2),\n",
    "    Dense(len(np.unique(y_train)), activation='softmax')\n",
    "])\n",
    "\n",
    "model.compile(optimizer='adam', loss='sparse_categorical_crossentropy', metrics=['accuracy'])\n"
   ]
  },
  {
   "cell_type": "code",
   "execution_count": 17,
   "id": "ebd207b5",
   "metadata": {},
   "outputs": [
    {
     "name": "stdout",
     "output_type": "stream",
     "text": [
      "Epoch 1/5\n",
      "704/704 [==============================] - 77s 107ms/step - loss: 0.4168 - accuracy: 0.8983 - val_loss: 0.1949 - val_accuracy: 0.9512\n",
      "Epoch 2/5\n",
      "704/704 [==============================] - 75s 106ms/step - loss: 0.2026 - accuracy: 0.9479 - val_loss: 0.1403 - val_accuracy: 0.9620\n",
      "Epoch 3/5\n",
      "704/704 [==============================] - 74s 105ms/step - loss: 0.1640 - accuracy: 0.9568 - val_loss: 0.1263 - val_accuracy: 0.9680\n",
      "Epoch 4/5\n",
      "704/704 [==============================] - 75s 107ms/step - loss: 0.1429 - accuracy: 0.9616 - val_loss: 0.1098 - val_accuracy: 0.9698\n",
      "Epoch 5/5\n",
      "704/704 [==============================] - 75s 106ms/step - loss: 0.1277 - accuracy: 0.9654 - val_loss: 0.1007 - val_accuracy: 0.9726\n"
     ]
    }
   ],
   "source": [
    "import time\n",
    "\n",
    "# Capture the start time\n",
    "start_time = time.time()\n",
    "\n",
    "# Train the model\n",
    "history = model.fit(X_train, y_train, epochs=5, validation_data=(X_test, y_test), batch_size=128)\n",
    "\n",
    "# Calculate the total training time\n",
    "total_training_time = time.time() - start_time\n"
   ]
  },
  {
   "cell_type": "code",
   "execution_count": 18,
   "id": "7767bb06",
   "metadata": {},
   "outputs": [
    {
     "name": "stdout",
     "output_type": "stream",
     "text": [
      "704/704 [==============================] - 6s 9ms/step\n",
      "Total Training Time: 375.78 seconds\n",
      "Overall Accuracy: 97.26%\n",
      "Overall Sensitivity: 60.37%\n",
      "Overall Specificity: 100.00%\n",
      "Overall Precision: 72.84%\n",
      "Overall F-Score: 62.95%\n"
     ]
    },
    {
     "name": "stderr",
     "output_type": "stream",
     "text": [
      "F:\\Anaconda\\lib\\site-packages\\sklearn\\metrics\\_classification.py:1245: UndefinedMetricWarning: Precision is ill-defined and being set to 0.0 in labels with no predicted samples. Use `zero_division` parameter to control this behavior.\n",
      "  _warn_prf(average, modifier, msg_start, len(result))\n"
     ]
    }
   ],
   "source": [
    "from sklearn.metrics import confusion_matrix, precision_score, recall_score, f1_score\n",
    "\n",
    "# Predict on the test data\n",
    "y_pred = model.predict(X_test)\n",
    "y_pred_classes = np.argmax(y_pred, axis=1)\n",
    "\n",
    "# Compute the confusion matrix\n",
    "conf_matrix = confusion_matrix(y_test, y_pred_classes)\n",
    "\n",
    "# Compute the metrics\n",
    "overall_accuracy = np.sum(y_pred_classes == y_test) / len(y_test)\n",
    "overall_sensitivity = recall_score(y_test, y_pred_classes, average='macro') * 100\n",
    "overall_specificity = (conf_matrix[0,0] / (conf_matrix[0,0] + conf_matrix[0,1])) * 100\n",
    "overall_precision = precision_score(y_test, y_pred_classes, average='macro') * 100\n",
    "overall_fscore = f1_score(y_test, y_pred_classes, average='macro') * 100\n",
    "\n",
    "# Print the results\n",
    "print(f\"Total Training Time: {total_training_time:.2f} seconds\")\n",
    "print(f\"Overall Accuracy: {overall_accuracy * 100:.2f}%\")\n",
    "print(f\"Overall Sensitivity: {overall_sensitivity:.2f}%\")\n",
    "print(f\"Overall Specificity: {overall_specificity:.2f}%\")\n",
    "print(f\"Overall Precision: {overall_precision:.2f}%\")\n",
    "print(f\"Overall F-Score: {overall_fscore:.2f}%\")\n"
   ]
  },
  {
   "cell_type": "code",
   "execution_count": 19,
   "id": "1cda9426-113c-498a-9a5e-e21ae04685de",
   "metadata": {},
   "outputs": [
    {
     "data": {
      "image/png": "[encoded data removed]",
      "text/plain": [
       "<Figure size 1008x360 with 2 Axes>"
      ]
     },
     "metadata": {
      "needs_background": "light"
     },
     "output_type": "display_data"
    }
   ],
   "source": [
    "import matplotlib.pyplot as plt\n",
    "\n",
    "# Plot training & validation accuracy values\n",
    "plt.figure(figsize=(14, 5))\n",
    "plt.subplot(1, 2, 1)\n",
    "plt.plot(history.history['accuracy'])\n",
    "plt.plot(history.history['val_accuracy'])\n",
    "plt.title('Model accuracy')\n",
    "plt.xlabel('Epoch')\n",
    "plt.ylabel('Accuracy')\n",
    "plt.legend(['Train', 'Test'], loc='upper left')\n",
    "\n",
    "# Plot training & validation loss values\n",
    "plt.subplot(1, 2, 2)\n",
    "plt.plot(history.history['loss'])\n",
    "plt.plot(history.history['val_loss'])\n",
    "plt.title('Model loss')\n",
    "plt.xlabel('Epoch')\n",
    "plt.ylabel('Loss')\n",
    "plt.legend(['Train', 'Test'], loc='upper left')\n",
    "\n",
    "plt.show()\n"
   ]
  },
  {
   "cell_type": "code",
   "execution_count": null,
   "id": "13a82bfe-4ce6-4999-8336-69545b16f5dc",
   "metadata": {},
   "outputs": [],
   "source": []
  },
  {
   "cell_type": "code",
   "execution_count": null,
   "id": "5a583e46-69b2-4097-b3c0-32134f1182ef",
   "metadata": {},
   "outputs": [],
   "source": []
  },
  {
   "cell_type": "code",
   "execution_count": null,
   "id": "d71fde6a-0fee-4405-a919-f203030d6a5b",
   "metadata": {},
   "outputs": [],
   "source": []
  },
  {
   "cell_type": "code",
   "execution_count": null,
   "id": "a457483e",
   "metadata": {},
   "outputs": [],
   "source": []
  }
 ],
 "metadata": {
  "kernelspec": {
   "display_name": "Python 3",
   "language": "python",
   "name": "python3"
  },
  "language_info": {
   "codemirror_mode": {
    "name": "ipython",
    "version": 3
   },
   "file_extension": ".py",
   "mimetype": "text/x-python",
   "name": "python",
   "nbconvert_exporter": "python",
   "pygments_lexer": "ipython3",
   "version": "3.8.8"
  }
 },
 "nbformat": 4,
 "nbformat_minor": 5
}
