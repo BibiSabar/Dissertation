{
 "cells": [
  {
   "cell_type": "code",
   "execution_count": null,
   "id": "cd94f867-4c3d-4b51-89ae-f06e8ae31a78",
   "metadata": {},
   "outputs": [],
   "source": [
    "import time\n",
    "import pyautogui\n",
    "\n",
    "while True:\n",
    "    pyautogui.move(1,1)\n",
    "    time.sleep(50)\n",
    "    pyautogui.leftClick"
   ]
  }
 ],
 "metadata": {
  "kernelspec": {
   "display_name": "Python 3 (ipykernel)",
   "language": "python",
   "name": "python3"
  },
  "language_info": {
   "codemirror_mode": {
    "name": "ipython",
    "version": 3
   },
   "file_extension": ".py",
   "mimetype": "text/x-python",
   "name": "python",
   "nbconvert_exporter": "python",
   "pygments_lexer": "ipython3",
   "version": "3.10.14"
  }
 },
 "nbformat": 4,
 "nbformat_minor": 5
}
